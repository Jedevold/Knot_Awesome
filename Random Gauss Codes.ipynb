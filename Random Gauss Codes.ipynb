{
 "cells": [
  {
   "cell_type": "code",
   "execution_count": 1,
   "metadata": {},
   "outputs": [
    {
     "name": "stdout",
     "output_type": "stream",
     "text": [
      "Populating the interactive namespace from numpy and matplotlib\n"
     ]
    }
   ],
   "source": [
    "%gui qt\n",
    "%pylab qt\n",
    "import numpy as np\n",
    "import re\n",
    "from pyknotid.spacecurves import Knot\n",
    "from pyknotid.representations import GaussCode, Representation\n",
    "import ipywidgets as widgets\n",
    "from ipywidgets import interact, interactive, fixed, interact_manual\n",
    "from tqdm import tnrange, tqdm_notebook\n",
    "from time import sleep"
   ]
  },
  {
   "cell_type": "markdown",
   "metadata": {},
   "source": [
    "### Splitter \n",
    "A function for parsing PyKnotId gauss code in preparation for conversion."
   ]
  },
  {
   "cell_type": "code",
   "execution_count": 2,
   "metadata": {},
   "outputs": [],
   "source": [
    "def splitter(s):\n",
    "    if '+' in s:\n",
    "        \n",
    "        sign = '+'\n",
    "        number, hand = s.split('+')\n",
    "    elif '-' in s:\n",
    "        sign = '-'\n",
    "        \n",
    "        number, hand = s.split('-')\n",
    "    return number, sign, hand            "
   ]
  },
  {
   "cell_type": "markdown",
   "metadata": {},
   "source": [
    "### Gauss Converter\n",
    "Puts the gauss code and extended gauss code into a form PyKnotId can work with"
   ]
  },
  {
   "cell_type": "code",
   "execution_count": 3,
   "metadata": {},
   "outputs": [],
   "source": [
    "\n",
    "def gauss_converter(g,e):\n",
    "    newgauss = ''\n",
    "    for i in g:\n",
    "        if i < 0:\n",
    "            # c for clockwise\n",
    "            # a for anticlockwise\n",
    "            if e[abs(i)-1]==1:\n",
    "                newgauss += str(abs(i))+'-c,'\n",
    "            else:\n",
    "                newgauss += str(abs(i))+'-a,'\n",
    "        else:\n",
    "            if e[abs(i)-1]==1:\n",
    "                newgauss += str(abs(i))+'+c,'\n",
    "            else:\n",
    "                newgauss += str(abs(i))+'+a,'\n",
    "    return newgauss[:-1]\n",
    "\n"
   ]
  },
  {
   "cell_type": "markdown",
   "metadata": {},
   "source": [
    "### Gauss Reverter\n",
    "Converts the gauss code from PyKnotId into a form we are familiar with"
   ]
  },
  {
   "cell_type": "code",
   "execution_count": 4,
   "metadata": {},
   "outputs": [],
   "source": [
    "def gauss_reverter(g):\n",
    "    numbers = []\n",
    "    signs = []\n",
    "    hands = []\n",
    "    \n",
    "    gauss = g.split(',')\n",
    "    for i in gauss:\n",
    "        number, sign, hand = splitter(i)\n",
    "        numbers.append(int(number))\n",
    "        signs.append(sign)\n",
    "        hands.append(hand)\n",
    "    ex_g_code = list(np.zeros(max(numbers),dtype=int))\n",
    "\n",
    "    for i,j in enumerate(numbers):\n",
    "        if signs[i] == '-':\n",
    "            numbers[i] *= -1\n",
    "        if ex_g_code[abs(j)-1] == 0:\n",
    "            if hands[i] == 'a':\n",
    "                ex_g_code[abs(j)-1] = -1\n",
    "            else:\n",
    "                ex_g_code[abs(j)-1] = 1\n",
    "                \n",
    "\n",
    "    return numbers, ex_g_code"
   ]
  },
  {
   "cell_type": "markdown",
   "metadata": {},
   "source": [
    "### Get the Gauss Codes"
   ]
  },
  {
   "cell_type": "code",
   "execution_count": 5,
   "metadata": {},
   "outputs": [],
   "source": [
    "def get_code(low=10,high=50,run=20,reparam=100000,interp_pts=400,pt_random = True,point_amt=0):\n",
    "    if pt_random: \n",
    "        point_amt = np.random.randint(low,high)\n",
    "    else:\n",
    "        point_amt = point_amt \n",
    "    points = np.random.rand(point_amt,3)\n",
    "    pm = lambda x:x*np.random.choice([-1,1])\n",
    "    mult = np.array([np.random.randint(1,30) for i in range(point_amt)])\n",
    "    for i,j in enumerate(points):\n",
    "        if j[0]==j[1] and j[1]==j[2] and j[2] == 0:\n",
    "            break\n",
    "        points[i] = [pm(j) for j in points[i]]\n",
    "        points[i] *= 1/np.sqrt(j[0]**2+j[1]**2+j[2]**2)\n",
    "        points[i]*= point_amt\n",
    "\n",
    "    gc=Knot(points).gauss_code() #Generate knot object from points tuple\n",
    "    '''\n",
    "    k.octree_simplify(runs = run)\n",
    "    k=k.reparameterised(num_points = reparam)\n",
    "    k.interpolate(interp_pts)\n",
    "    k.plot() #Plot the knot in vispy\n",
    "\n",
    "    k.plot_projection() # plot the projection in matplotlib\n",
    "    '''\n",
    "    gcs = gc.strang()\n",
    "\n",
    "    if len(gc)>2:    \n",
    "        gauss1, extend1 = gauss_reverter(gcs)\n",
    "    #print(\"Code before:\\n\",gauss,extend)\n",
    "        gc.simplify()\n",
    "    else:\n",
    "        gauss1 = [0]\n",
    "        extend1 = [0]\n",
    "    if len(gc)>2:\n",
    "        gcs = gc.strang()\n",
    "        gauss2, extend2 = gauss_reverter(gcs)\n",
    "    else:\n",
    "        gauss2 = [0]\n",
    "        extend2 = [0]\n",
    "    #print(\"\\nCode after: \",gauss,extend)\n",
    "    gc1 = str(gauss1)[1:-1]+'/'+str(extend1)[1:-1]\n",
    "    gc2 = str(gauss2)[1:-1]+':'+str(extend2)[1:-1]\n",
    "    total_gauss = gc1+'*'+gc2\n",
    "    return total_gauss"
   ]
  },
  {
   "cell_type": "code",
   "execution_count": 6,
   "metadata": {},
   "outputs": [
    {
     "data": {
      "text/plain": [
       "'file = open(\"GaussCodes.txt\",\"w\")\\nloops = 55\\nfor i in tnrange(5,5+loops, desc=\\'1st loop\\'):\\n    for j in range(1000):\\n      \\n        total_gauss = get_code(low=i,high=i+40,run=20,reparam=100000,interp_pts=400,pt_random = False,point_amt=i)\\n        if total_gauss == \\'0/0*0:0\\':\\n            continue\\n        else:\\n            file.write(str(total_gauss)+\\'\\n\\')\\n            loop.set_description(\\'On Point:{}\\'.format(i))\\n        \\n    \\nfile.close()\\n'"
      ]
     },
     "execution_count": 6,
     "metadata": {},
     "output_type": "execute_result"
    }
   ],
   "source": [
    "'''file = open(\"GaussCodes.txt\",\"w\")\n",
    "loops = 55\n",
    "for i in tnrange(5,5+loops, desc='1st loop'):\n",
    "    for j in range(1000):\n",
    "      \n",
    "        total_gauss = get_code(low=i,high=i+40,run=20,reparam=100000,interp_pts=400,pt_random = False,point_amt=i)\n",
    "        if total_gauss == '0/0*0:0':\n",
    "            continue\n",
    "        else:\n",
    "            file.write(str(total_gauss)+'\\n')\n",
    "            loop.set_description('On Point:{}'.format(i))\n",
    "        \n",
    "    \n",
    "file.close()\n",
    "'''"
   ]
  },
  {
   "cell_type": "code",
   "execution_count": 7,
   "metadata": {},
   "outputs": [],
   "source": []
  },
  {
   "cell_type": "code",
   "execution_count": 8,
   "metadata": {},
   "outputs": [],
   "source": []
  },
  {
   "cell_type": "code",
   "execution_count": 9,
   "metadata": {},
   "outputs": [],
   "source": []
  },
  {
   "cell_type": "code",
   "execution_count": 10,
   "metadata": {},
   "outputs": [],
   "source": []
  },
  {
   "cell_type": "code",
   "execution_count": 11,
   "metadata": {},
   "outputs": [],
   "source": []
  },
  {
   "cell_type": "code",
   "execution_count": 12,
   "metadata": {},
   "outputs": [
    {
     "name": "stdout",
     "output_type": "stream",
     "text": [
      "HI\n"
     ]
    }
   ],
   "source": []
  },
  {
   "cell_type": "code",
   "execution_count": null,
   "metadata": {},
   "outputs": [],
   "source": []
  }
 ],
 "metadata": {
  "kernelspec": {
   "display_name": "Python 3",
   "language": "python",
   "name": "python3"
  },
  "language_info": {
   "codemirror_mode": {
    "name": "ipython",
    "version": 3
   },
   "file_extension": ".py",
   "mimetype": "text/x-python",
   "name": "python",
   "nbconvert_exporter": "python",
   "pygments_lexer": "ipython3",
   "version": "3.6.6"
  }
 },
 "nbformat": 4,
 "nbformat_minor": 2
}
